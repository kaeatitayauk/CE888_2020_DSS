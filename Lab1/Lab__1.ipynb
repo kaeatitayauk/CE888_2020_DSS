{
  "nbformat": 4,
  "nbformat_minor": 0,
  "metadata": {
    "colab": {
      "name": "Untitled0.ipynb",
      "provenance": [],
      "authorship_tag": "ABX9TyPu3trh1QdvyPvNKbA1BDqI",
      "include_colab_link": true
    },
    "kernelspec": {
      "name": "python3",
      "display_name": "Python 3"
    }
  },
  "cells": [
    {
      "cell_type": "markdown",
      "metadata": {
        "id": "view-in-github",
        "colab_type": "text"
      },
      "source": [
        "<a href=\"https://colab.research.google.com/github/kaeatitayauk/CE888_2020_DSS/blob/master/Lab1/Lab__1.ipynb\" target=\"_parent\"><img src=\"https://colab.research.google.com/assets/colab-badge.svg\" alt=\"Open In Colab\"/></a>"
      ]
    },
    {
      "cell_type": "markdown",
      "metadata": {
        "id": "Eu3m01sQ2aL9",
        "colab_type": "text"
      },
      "source": [
        "1.Create a (4 x 2) integer array and print it's attributes"
      ]
    },
    {
      "cell_type": "code",
      "metadata": {
        "id": "lhWDbclE1yFV",
        "colab_type": "code",
        "colab": {
          "base_uri": "https://localhost:8080/",
          "height": 85
        },
        "outputId": "4fce6ff7-0ad2-43b3-e644-f35d61ee5b05"
      },
      "source": [
        "import numpy as np\n",
        "a = np.array([[1,2],[3,4],[5,6],[7,8]])\n",
        "print(a)"
      ],
      "execution_count": 4,
      "outputs": [
        {
          "output_type": "stream",
          "text": [
            "[[1 2]\n",
            " [3 4]\n",
            " [5 6]\n",
            " [7 8]]\n"
          ],
          "name": "stdout"
        }
      ]
    },
    {
      "cell_type": "markdown",
      "metadata": {
        "id": "gNQUHEbV2gla",
        "colab_type": "text"
      },
      "source": [
        "2.Create an array of dimension (1,10) and sort it in ascending and descending order\n"
      ]
    },
    {
      "cell_type": "code",
      "metadata": {
        "id": "r92BZNk52jus",
        "colab_type": "code",
        "colab": {
          "base_uri": "https://localhost:8080/",
          "height": 51
        },
        "outputId": "a0d22793-c1df-427e-c273-9746a5f09cc7"
      },
      "source": [
        "array = np.arange(10)\n",
        "array_ascending = np.sort(array)\n",
        "print(array_ascending )\n",
        "array_descending = array_ascending[::-1]\n",
        "print(array_descending)"
      ],
      "execution_count": 18,
      "outputs": [
        {
          "output_type": "stream",
          "text": [
            "[0 1 2 3 4 5 6 7 8 9]\n",
            "[9 8 7 6 5 4 3 2 1 0]\n"
          ],
          "name": "stdout"
        }
      ]
    },
    {
      "cell_type": "markdown",
      "metadata": {
        "id": "Cdjgwa0l4uAQ",
        "colab_type": "text"
      },
      "source": [
        "3.Convert an 1D array [1 2 3 4 5 6 7 8 9] to 2D array [[1 2 3], [4 5 6], [7 8 9]]"
      ]
    },
    {
      "cell_type": "code",
      "metadata": {
        "id": "ayM5Y3yD4ta9",
        "colab_type": "code",
        "colab": {
          "base_uri": "https://localhost:8080/",
          "height": 68
        },
        "outputId": "36e431f3-3c98-47ec-9460-6047b58a565f"
      },
      "source": [
        "a = np.arange(1,10).reshape(3, 3)\n",
        "print(a)"
      ],
      "execution_count": 23,
      "outputs": [
        {
          "output_type": "stream",
          "text": [
            "[[1 2 3]\n",
            " [4 5 6]\n",
            " [7 8 9]]\n"
          ],
          "name": "stdout"
        }
      ]
    },
    {
      "cell_type": "markdown",
      "metadata": {
        "id": "2njs6AC55H5A",
        "colab_type": "text"
      },
      "source": [
        "4.Stack two arrays of any size horizontally and vertically\n"
      ]
    },
    {
      "cell_type": "code",
      "metadata": {
        "id": "uc2K8hk65GJm",
        "colab_type": "code",
        "colab": {
          "base_uri": "https://localhost:8080/",
          "height": 153
        },
        "outputId": "4110a1a6-52e4-43e0-e46a-d81ddddd5903"
      },
      "source": [
        "a = np.array([[1, 2], [3, 4]])\n",
        "b = np.array([[5, 6]])\n",
        "array1 = np.concatenate((a, b), axis=0)\n",
        "array2 = np.concatenate((a, b.T), axis=1)\n",
        "print(\"vertically\")\n",
        "print(array1)\n",
        "print(\"-----------------\")\n",
        "print(\"horizontally\")\n",
        "print(array2)"
      ],
      "execution_count": 41,
      "outputs": [
        {
          "output_type": "stream",
          "text": [
            "vertically\n",
            "[[1 2]\n",
            " [3 4]\n",
            " [5 6]]\n",
            "-----------------\n",
            "horizontally\n",
            "[[1 2 5]\n",
            " [3 4 6]]\n"
          ],
          "name": "stdout"
        }
      ]
    },
    {
      "cell_type": "markdown",
      "metadata": {
        "id": "LFpmfcDk7MgF",
        "colab_type": "text"
      },
      "source": [
        "5.Create two array of same size and find commom elements"
      ]
    },
    {
      "cell_type": "code",
      "metadata": {
        "id": "Pd9dGsEQ7PCT",
        "colab_type": "code",
        "colab": {
          "base_uri": "https://localhost:8080/",
          "height": 153
        },
        "outputId": "5ae69180-72ec-4218-f202-5c4c4a896db8"
      },
      "source": [
        "a = np.arange(1,5).reshape(2,2)\n",
        "b = np.array([[1,3],[4,5]])\n",
        "print(\"---- Array a ----\")\n",
        "print(a)\n",
        "print(\"---- Array b ----\")\n",
        "print(b)\n",
        "print(\"---- Comment Elements----\")\n",
        "np.intersect1d(a,b)"
      ],
      "execution_count": 52,
      "outputs": [
        {
          "output_type": "stream",
          "text": [
            "---- Array a ----\n",
            "[[1 2]\n",
            " [3 4]]\n",
            "---- Array b ----\n",
            "[[1 3]\n",
            " [4 5]]\n",
            "---- Comment Elements----\n"
          ],
          "name": "stdout"
        },
        {
          "output_type": "execute_result",
          "data": {
            "text/plain": [
              "array([1, 3, 4])"
            ]
          },
          "metadata": {
            "tags": []
          },
          "execution_count": 52
        }
      ]
    },
    {
      "cell_type": "markdown",
      "metadata": {
        "id": "_8UYF8V09bC0",
        "colab_type": "text"
      },
      "source": [
        "6.Create a 2D array of 5 by 5 and find the min and max values from each row and each column"
      ]
    },
    {
      "cell_type": "code",
      "metadata": {
        "id": "Yezeq6OI9flw",
        "colab_type": "code",
        "colab": {
          "base_uri": "https://localhost:8080/",
          "height": 238
        },
        "outputId": "dff330a2-ffa5-4b0c-808a-60f74d30f664"
      },
      "source": [
        "a = np.random.randint(1,100,25).reshape(5,5)\n",
        "print(a)\n",
        "maxValue_c = np.amax(a, axis=0)\n",
        "print(\"--- Maximum value from each column ---\")\n",
        "print(maxValue_c)\n",
        "minValue_c = np.amin(a, axis=0)\n",
        "print(\"--- Minimum value from each column ---\")\n",
        "print(minValue_c)\n",
        "\n",
        "maxValue_r = np.amax(a, axis=1)\n",
        "print(\"--- Maximum value from each row ---\")\n",
        "print(maxValue_r)\n",
        "minValue_r = np.amin(a, axis= 1)\n",
        "print(\"--- Minimum value from each row ---\")\n",
        "print(minValue_r)"
      ],
      "execution_count": 65,
      "outputs": [
        {
          "output_type": "stream",
          "text": [
            "[[32 61 48 36 73]\n",
            " [86 59 80 39 15]\n",
            " [95 11 41 12  2]\n",
            " [82 11  3 49  7]\n",
            " [93  4 96 23 71]]\n",
            "--- Maximum value from each column ---\n",
            "[95 61 96 49 73]\n",
            "--- Minimum value from each column ---\n",
            "[32  4  3 12  2]\n",
            "--- Maximum value from each row ---\n",
            "[73 86 95 82 96]\n",
            "--- Minimum value from each row ---\n",
            "[32 15  2  3  4]\n"
          ],
          "name": "stdout"
        }
      ]
    },
    {
      "cell_type": "markdown",
      "metadata": {
        "id": "zOee0atV_j7N",
        "colab_type": "text"
      },
      "source": [
        "7.Create an array of size 100 and compute the mean, median, standard deviation."
      ]
    },
    {
      "cell_type": "code",
      "metadata": {
        "id": "5JYJIJuO_mt2",
        "colab_type": "code",
        "colab": {
          "base_uri": "https://localhost:8080/",
          "height": 289
        },
        "outputId": "61f4337b-fe28-4df7-eaf9-f502bd7e84e6"
      },
      "source": [
        "a = np.random.randint(1,100,100).reshape(10,10)\n",
        "print(a)\n",
        "print(\"--- Mean Value ---\")\n",
        "MeanValue = np.mean(a)\n",
        "print(MeanValue)\n",
        "print(\"--- Median Value ---\")\n",
        "MedianValue = np.median(a)\n",
        "print(MedianValue)\n",
        "print(\"--- standard deviation ---\")\n",
        "stdValue = np.std(a)\n",
        "print(stdValue)\n"
      ],
      "execution_count": 73,
      "outputs": [
        {
          "output_type": "stream",
          "text": [
            "[[35  6  4 44  3 79  4 40 22 93]\n",
            " [23 61 85 14 11 21 57 50  4 30]\n",
            " [26  2 35 90 67  5 92 40 94 57]\n",
            " [56 46 87 99 20  3 87  5 49 44]\n",
            " [90 19 14 32 17 77 51  2 36 78]\n",
            " [59 72 14 56 38 37 52 40 30  1]\n",
            " [68 38 85  3  3  5  8  9 55 84]\n",
            " [99 12 68 13 29 98 13 77 81 97]\n",
            " [56 70 26 92 54 63 36 69 30 13]\n",
            " [75 68  4  3 96  2 75 92 45 86]]\n",
            "--- Mean Value ---\n",
            "45.05\n",
            "--- Median Value ---\n",
            "42.0\n",
            "--- standard deviation ---\n",
            "31.415402273407228\n"
          ],
          "name": "stdout"
        }
      ]
    },
    {
      "cell_type": "markdown",
      "metadata": {
        "id": "VgUIWt6LBRAI",
        "colab_type": "text"
      },
      "source": [
        "8.Normalize a 5x5 random matrix"
      ]
    },
    {
      "cell_type": "code",
      "metadata": {
        "id": "EjVYcib-BXOC",
        "colab_type": "code",
        "colab": {
          "base_uri": "https://localhost:8080/",
          "height": 102
        },
        "outputId": "7d9fe533-8aa7-4383-f6ec-84a652d97826"
      },
      "source": [
        "a = np.random.randint(1,20,25).reshape(5,5)\n",
        "print(a)"
      ],
      "execution_count": 74,
      "outputs": [
        {
          "output_type": "stream",
          "text": [
            "[[18 17 15  4 14]\n",
            " [18 13  5 10 18]\n",
            " [10  2 17 19 18]\n",
            " [ 7  2 13 12  3]\n",
            " [16  6  4  2 11]]\n"
          ],
          "name": "stdout"
        }
      ]
    },
    {
      "cell_type": "markdown",
      "metadata": {
        "id": "trgXQZ2MBpri",
        "colab_type": "text"
      },
      "source": [
        "9.Consider an array of dimension (4,4,3), how to mulitply it by an array with dimensions (4,4)?\n"
      ]
    },
    {
      "cell_type": "code",
      "metadata": {
        "id": "St5hijmsBtDt",
        "colab_type": "code",
        "colab": {
          "base_uri": "https://localhost:8080/",
          "height": 340
        },
        "outputId": "94776b3b-6f45-4964-9028-e07b9d855435"
      },
      "source": [
        "a = np.arange(1,49).reshape(4,4,3)\n",
        "b = np.arange(1,17).reshape(4,4)\n",
        "\n",
        "a*b[:,:,None]"
      ],
      "execution_count": 106,
      "outputs": [
        {
          "output_type": "execute_result",
          "data": {
            "text/plain": [
              "array([[[  1,   2,   3],\n",
              "        [  8,  10,  12],\n",
              "        [ 21,  24,  27],\n",
              "        [ 40,  44,  48]],\n",
              "\n",
              "       [[ 65,  70,  75],\n",
              "        [ 96, 102, 108],\n",
              "        [133, 140, 147],\n",
              "        [176, 184, 192]],\n",
              "\n",
              "       [[225, 234, 243],\n",
              "        [280, 290, 300],\n",
              "        [341, 352, 363],\n",
              "        [408, 420, 432]],\n",
              "\n",
              "       [[481, 494, 507],\n",
              "        [560, 574, 588],\n",
              "        [645, 660, 675],\n",
              "        [736, 752, 768]]])"
            ]
          },
          "metadata": {
            "tags": []
          },
          "execution_count": 106
        }
      ]
    }
  ]
}